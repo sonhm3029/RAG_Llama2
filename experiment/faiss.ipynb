{
 "cells": [
  {
   "cell_type": "code",
   "execution_count": 23,
   "metadata": {},
   "outputs": [],
   "source": [
    "from langchain_community.vectorstores import FAISS\n",
    "import faiss\n",
    "from langchain_community.embeddings import HuggingFaceEmbeddings"
   ]
  },
  {
   "cell_type": "code",
   "execution_count": 3,
   "metadata": {},
   "outputs": [],
   "source": [
    "embedding_model = HuggingFaceEmbeddings(model_name=\"sentence-transformers/all-MiniLM-l6-v2\")\n",
    "db = FAISS.load_local(\"/media/ivirse/Data1/Project_ISOFH/Materials/NLP/Rag_LLAMA2/vectorstores/db_faiss\", embeddings=embedding_model)"
   ]
  },
  {
   "cell_type": "code",
   "execution_count": 55,
   "metadata": {},
   "outputs": [],
   "source": [
    "retriever = db.as_retriever(search_kwargs={\"k\": 100}, search_type=\"mmr\")"
   ]
  },
  {
   "cell_type": "code",
   "execution_count": 60,
   "metadata": {},
   "outputs": [
    {
     "data": {
      "text/plain": [
       "[Document(page_content='công việc tại các tập đoàn này, đặc biệt là kỹ sư ngành điện tử viễn thông.', metadata={'source': 'data/word/Q&A về điện tử viễn thông.docx'}),\n",
       " Document(page_content='Chế tạo mạch điện tử, máy tính (xây dựng)\\n\\nLập trình mạch điện tử, máy tính nhúng, ứng dụng.\\n\\nTích hợp, tối ưu mạng máy tính, mạng viễn thông, mạng 4G, 5G, IoT\\n\\nNghiên cứu phát triển thiết bị y tế, hàng không, giao thông, quân sự, dân sự, viễn thông, …\\n\\n\\n\\n\\n\\nHỏi: Tỉ lệ có việc sau khi tốt nghiệp? Cơ hội việc làm?\\n\\n95% có việc sau 6 tháng; 5% đi du học và làm việc tại nước ngoài.\\n\\nĐiện tử Viễn thông: ngành hiệu quả, nhiều việc làm, ít cạnh tranh.\\n\\n\\n\\nHỏi: Điện tử Viễn thông ra làm ở đâu?', metadata={'source': 'data/word/Flyer Hỏi đáp - 2021.docx'}),\n",
       " Document(page_content='Hot line: 0963122389 (Thầy Minh), \\n\\nET-E16: Chương trình tiên tiến Truyền thông số và Kỹ thuật Đa phương tiện\\n\\nChỉ tiêu: 60\\n\\nHọc phí:40-45 triệu/1 năm\\n\\nChương trình mới mở 2020', metadata={'source': 'data/word/Flyer Hỏi đáp - 2021.docx'}),\n",
       " Document(page_content='Câu hỏi 5:Em muốn làm việc tại các công ty liên quan đến cung cấp dịch vụ, sản xuất hoặc thiết kế giải pháp cho hệ thống viễn thông, Internet. Vậy em nên lựa chọn ngành nào cho phù hợp?\\n\\n\\n\\nTrả lời:\\n\\n\\n\\nChào em!', metadata={'source': 'data/word/Q&A về điện tử viễn thông.docx'}),\n",
       " Document(page_content='sâu của ngành điện tử viễn thông và Kỹ thuật máy tính.', metadata={'source': 'data/word/Q&A về điện tử viễn thông.docx'}),\n",
       " Document(page_content='Câu hỏi 23:Em rất muốn tìm hiểu về các hệ thống mạng thông tin, mạng máy tính. Xin Thầy Cô cho em biết đây có phải lĩnh vực đào tạo của ngành công nghệ thông tin hay không?\\n\\n\\n\\nTrả lời:\\n\\n\\n\\nChào em!', metadata={'source': 'data/word/Q&A về điện tử viễn thông.docx'}),\n",
       " Document(page_content='ứng dụng, còn ngành điện tử viễn thông tập trung về nghiên cứu phát triển các giải pháp kỹ thuật.', metadata={'source': 'data/word/Q&A về điện tử viễn thông.docx'}),\n",
       " Document(page_content='Câu hỏi 8:Với mong muốn sau khi ra trường dễ dàng xin việc, được biết tập đoàn SamSung, Canon, …. đang đầu tư rất mạnh ở Việt Nam. Vậy em nên học ngành nào để trong tương lai có thể xin việc ở đây?\\n\\n\\n\\nTrả lời:\\n\\n\\n\\nChào em!', metadata={'source': 'data/word/Q&A về điện tử viễn thông.docx'}),\n",
       " Document(page_content='Câu hỏi 22:Thưa Thầy Cô, mong muốn sau khi tốt nghiệp đại học em sẽ được làm trong lĩnh vực công tác điều khiển bay trong sân bay. Vậy em nên học kiến thức gì và đăng ký vào ngành nào?\\n\\n\\n\\nTrả lời:\\n\\n\\n\\nChào em!\\n\\n\\n\\nLĩnh vực điều khiển bay tại các sân bay liên quan rất nhiều đến các kiến thức về rada, angten, xử lý thông tin, xử lý tín hiệu. Đây là các kiến thức nằm chủ yếu ở ngành Công nghệ Kỹ thuật Điện tử viễn thông.', metadata={'source': 'data/word/Q&A về điện tử viễn thông.docx'}),\n",
       " Document(page_content='ĐTVT học nhiều lập trình, thuật toán; \\n\\nĐTVT không chỉ lập trình cho máy tính cá nhân, mà lập trình cho các máy tính nhúng trong các thiết bị điện tử (điện thoại di động, đầu phát wifi, tivi, tủ lạnh, ô tô, máy bay, thẻ ngân hàng, đồng hồ thông minh, tên lửa…)\\n\\nHỏi: Em chưa biết lập trình tí gì?\\n\\nYên tâm vào ĐTVT sẽ được dạy lập trình rất bài bản.\\n\\n\\n\\n\\n\\nQ: Điện tử Viễn thông làm cái gì?\\n\\nThiết kế mạch điện tử, máy tính (kiến trúc sư)\\n\\nChế tạo mạch điện tử, máy tính (xây dựng)', metadata={'source': 'data/word/Flyer Hỏi đáp - 2021.docx'}),\n",
       " Document(page_content='Câu hỏi 14:Em xem trên tivi và được nghe rất nhiều về truyền hình số mặt đất, truyền hình số vệ tinh. Em muốn tìm hiểu và làm công việc liên quan đến lĩnh vực này. Em đăng ký học ngành Công nghệ Kỹ thuật Điện tử Viễn thông có được không ạ?\\n\\n\\n\\nTrả lời:\\n\\n\\n\\nChào em!', metadata={'source': 'data/word/Q&A về điện tử viễn thông.docx'}),\n",
       " Document(page_content='Câu hỏi 16:Em mong muốn trở thành kỹ sư phát triển phần mềm tại các tập đoàn, công ty Viễn thông. Vậy em nên lựa chọn ngành nào ạ?\\n\\n\\n\\nTrả lời:\\n\\n\\n\\nChào em!', metadata={'source': 'data/word/Q&A về điện tử viễn thông.docx'}),\n",
       " Document(page_content='Trả lời:\\n\\n\\n\\nChào em!\\n\\n\\n\\nNgành Công nghệ Kỹ thuật Điện tử Viễn thôngđàođào tạo kiến thức về hệ thống viễn thông, thiết bị di động và truyền dẫn,… Đồng thời được tìm hiểu về các ngôn ngữ lập trình như: Assembly, C/C++, C#...; kỹ năng thiết kế mạch nguyên lý, thiết kế mạch in, chế tạo, lắp ráp hàn nối và chỉnh sửa biên dịch phần mềm. Những kiến thức và kỹ năng được đào tạo này hoàn toàn đáp ứng công việc em yêu thích.', metadata={'source': 'data/word/Q&A về điện tử viễn thông.docx'}),\n",
       " Document(page_content='Câu hỏi 27:Xin Thầy Cô cho em biết, nếu em muốn sau này làm việc ở các trạm dự báo thời tiết thì em nên đăng ký học ngành nào?\\n\\n\\n\\nTrả lời:\\n\\n\\n\\nChào em!', metadata={'source': 'data/word/Q&A về điện tử viễn thông.docx'}),\n",
       " Document(page_content='Câu hỏi 26:Được biết công nghệ ô tô ngày càng phát triển và hiện nhiều tập đoàn đang hướng tới các xe ô tô tự lái, hay điều khiển bằng giọng nói. Em yêu thích về lĩnh vực này, vậy em nên đăng ký học ngành nào?\\n\\n\\n\\nTrả lời:\\n\\n\\n\\nChào em!', metadata={'source': 'data/word/Q&A về điện tử viễn thông.docx'}),\n",
       " Document(page_content='Câu hỏi 4:Chào Thầy Cô, em đang phân vân lựa chọn giữa ngành Công nghệ kỹ thuật Điện tử viễn thông với ngành Công nghệ thông tin. Xin cho em biết sự khác nhau giữa hai ngành để có lựa chọn đúng đắn nhất?\\n\\n\\n\\nTrả lời:\\n\\n\\n\\nChào em!', metadata={'source': 'data/word/Q&A về điện tử viễn thông.docx'}),\n",
       " Document(page_content='điện tử điện lạnh, khoa học máy tính và kỹ thuật truyền thông tin.', metadata={'source': 'data/word/Q&A về điện tử viễn thông.docx'}),\n",
       " Document(page_content='Câu hỏi 25:Gia đình em có nhiều người làm ở lĩnh vực hàng hải, qua các câu chuyện em biết được việc định vị trên biển là vô cùng quan trọng và cũng rất khó khăn. Từ đó em muốn tìm hiểu về các thiết bị hỗ trợ tầu thuyền trên sông trên biển. Vậy em nên học theo ngành nào?\\n\\n\\n\\nTrả lời:\\n\\n\\n\\nChào em!\\n\\n\\n\\nViệc định vị trên biển sẽ liên quan đến các thiết bị về bộ đàm, định vị vệ tinh, rada, anten …. Đây là mảng kiến thức được giảng dạy trong ngành Công nghệ Kỹ thuật Điện tửviễn thông.', metadata={'source': 'data/word/Q&A về điện tử viễn thông.docx'}),\n",
       " Document(page_content='Trả lời:\\n\\n\\n\\nChào em!\\n\\n\\n\\nNgành Công nghệ Kỹ thuật Điện tử viễn thông của trường đang đào đạo các kiến thức về lĩnh vực điện tử cũng như các kiến thức về công nghệ mạng thông tin, truyền thông tin qua khoảng cách. Trong lĩnh vực đào tạo có nhiều môn học liên quan đến vệ tinh như “Thông tin vệ tinh, trường điện từ và anten, kỹ thuật truyền tin, xử lý tín hiệu…” đó là các kiến thức sẽ đáp ứng mong mỏi của em.', metadata={'source': 'data/word/Q&A về điện tử viễn thông.docx'}),\n",
       " Document(page_content='Câu hỏi 15:Em chào Thầy, Cô. Em muốn làm các công việc liên quan đến thiết kế, chế tạo và lập trình các thiết bị điện tử như: điện thoại di động, máy tính bảng, thiết bị kỹ thuật số cá nhân, thiết bị dẫn đường… Em lựa chọn học ngành Công nghệ Kỹ thuật Điện tử Viễn thông có phù hợp không?\\n\\n\\n\\nTrả lời:\\n\\n\\n\\nChào em!', metadata={'source': 'data/word/Q&A về điện tử viễn thông.docx'})]"
      ]
     },
     "execution_count": 60,
     "metadata": {},
     "output_type": "execute_result"
    }
   ],
   "source": [
    "retriever.get_relevant_documents(\"Điện tử viễn thông làm cái gì\")"
   ]
  },
  {
   "cell_type": "code",
   "execution_count": 28,
   "metadata": {},
   "outputs": [
    {
     "data": {
      "text/plain": [
       "'Câu hỏi 14:Em xem trên tivi và được nghe rất nhiều về truyền hình số mặt đất, truyền hình số vệ tinh. Em muốn tìm hiểu và làm công việc liên quan đến lĩnh vực này. Em đăng ký học ngành Công nghệ Kỹ thuật Điện tử Viễn thông có được không ạ?\\n\\n\\n\\nTrả lời:\\n\\n\\n\\nChào em!'"
      ]
     },
     "execution_count": 28,
     "metadata": {},
     "output_type": "execute_result"
    }
   ],
   "source": [
    "docs[0].page_content"
   ]
  }
 ],
 "metadata": {
  "kernelspec": {
   "display_name": "llama_rag",
   "language": "python",
   "name": "python3"
  },
  "language_info": {
   "codemirror_mode": {
    "name": "ipython",
    "version": 3
   },
   "file_extension": ".py",
   "mimetype": "text/x-python",
   "name": "python",
   "nbconvert_exporter": "python",
   "pygments_lexer": "ipython3",
   "version": "3.10.13"
  }
 },
 "nbformat": 4,
 "nbformat_minor": 2
}
