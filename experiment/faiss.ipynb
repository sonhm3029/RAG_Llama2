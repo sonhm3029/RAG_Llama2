{
 "cells": [
  {
   "cell_type": "code",
   "execution_count": 9,
   "metadata": {},
   "outputs": [],
   "source": [
    "from langchain_community.vectorstores import FAISS\n",
    "from langchain_community.embeddings import HuggingFaceEmbeddings"
   ]
  },
  {
   "cell_type": "code",
   "execution_count": 10,
   "metadata": {},
   "outputs": [],
   "source": [
    "embedding_model = HuggingFaceEmbeddings(model_name=\"sentence-transformers/all-MiniLM-l6-v2\")\n",
    "db = FAISS.load_local(\"/media/ivirse/Data1/Project_ISOFH/Materials/NLP/Rag_LLAMA2/vectorstores/db_faiss\", embeddings=embedding_model)"
   ]
  },
  {
   "cell_type": "code",
   "execution_count": 13,
   "metadata": {},
   "outputs": [],
   "source": [
    "docs = db.similarity_search(\"Thông tin chi tiết về ngành ETE9\")"
   ]
  },
  {
   "cell_type": "code",
   "execution_count": 14,
   "metadata": {},
   "outputs": [
    {
     "data": {
      "text/plain": [
       "[Document(page_content='sâu của ngành điện tử viễn thông và Kỹ thuật máy tính.', metadata={'source': 'data/word/Q&A về điện tử viễn thông.docx'}),\n",
       " Document(page_content='Câu hỏi 23:Em rất muốn tìm hiểu về các hệ thống mạng thông tin, mạng máy tính. Xin Thầy Cô cho em biết đây có phải lĩnh vực đào tạo của ngành công nghệ thông tin hay không?\\n\\n\\n\\nTrả lời:\\n\\n\\n\\nChào em!', metadata={'source': 'data/word/Q&A về điện tử viễn thông.docx'}),\n",
       " Document(page_content='Thông tin chi tiết về ngành ETE9:\\n\\nNgành ETE9 Có các thông tin sau:\\n\\n1) Học gì?\\n\\n- Mạch điện tử, thiết kế mạch, thiết kế vi mạch\\n\\n- Cấu trúc máy tính (nhúng) - là máy tính trong điện thoại, trong ô tô, trong thiết bị điện tử gia dụng, trong thẻ ngân hàng\\n\\n- Lập trình máy tính nhúng: ngôn ngữ lập trình C, hệ điều hành trên máy tính nhúng, điều khiển các cảm biến, động cơ trong các thiết bị (điều khiển phần cứng)\\n\\n- Kết nối IoT - Kết nối 4G, 5G, Bluetooth, WIFI, ...', metadata={'source': 'data/word/Review ngành.docx'}),\n",
       " Document(page_content='3) Lương khởi điểm: 13-15 triệu. Đi Nhật thì tầm 50 triệu - cần N3, N2 và qua phỏng vấn của công ty thì được tuyển từ hết năm 3 (1 tháng)\\n\\n\\n\\n\\nThông tin chi tiết về ngành ET1:\\n\\nNgành ETE1 có các thông tin sau\\n\\nHọc như nào là sao? Khó như bao ngành khác, nhiều bài tập, nhiều dự án.', metadata={'source': 'data/word/Review ngành.docx'})]"
      ]
     },
     "execution_count": 14,
     "metadata": {},
     "output_type": "execute_result"
    }
   ],
   "source": [
    "docs"
   ]
  }
 ],
 "metadata": {
  "kernelspec": {
   "display_name": "llama_rag",
   "language": "python",
   "name": "python3"
  },
  "language_info": {
   "codemirror_mode": {
    "name": "ipython",
    "version": 3
   },
   "file_extension": ".py",
   "mimetype": "text/x-python",
   "name": "python",
   "nbconvert_exporter": "python",
   "pygments_lexer": "ipython3",
   "version": "3.10.13"
  }
 },
 "nbformat": 4,
 "nbformat_minor": 2
}
