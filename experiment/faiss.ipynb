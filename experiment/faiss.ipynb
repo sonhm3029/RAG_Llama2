{
 "cells": [
  {
   "cell_type": "code",
   "execution_count": 1,
   "metadata": {},
   "outputs": [],
   "source": [
    "from langchain_community.vectorstores import FAISS\n",
    "from langchain_community.embeddings import HuggingFaceEmbeddings"
   ]
  },
  {
   "cell_type": "code",
   "execution_count": 2,
   "metadata": {},
   "outputs": [
    {
     "name": "stderr",
     "output_type": "stream",
     "text": [
      "/home/tuannm/anaconda3/envs/llama_rag/lib/python3.10/site-packages/tqdm/auto.py:21: TqdmWarning: IProgress not found. Please update jupyter and ipywidgets. See https://ipywidgets.readthedocs.io/en/stable/user_install.html\n",
      "  from .autonotebook import tqdm as notebook_tqdm\n",
      "/home/tuannm/anaconda3/envs/llama_rag/lib/python3.10/site-packages/torch/cuda/__init__.py:138: UserWarning: CUDA initialization: The NVIDIA driver on your system is too old (found version 11040). Please update your GPU driver by downloading and installing a new version from the URL: http://www.nvidia.com/Download/index.aspx Alternatively, go to: https://pytorch.org to install a PyTorch version that has been compiled with your version of the CUDA driver. (Triggered internally at ../c10/cuda/CUDAFunctions.cpp:108.)\n",
      "  return torch._C._cuda_getDeviceCount() > 0\n"
     ]
    }
   ],
   "source": [
    "embedding_model = HuggingFaceEmbeddings()\n",
    "db = FAISS.load_local(\"/media/ivirse/Data1/Project_ISOFH/Materials/NLP/Rag_LLAMA2/vectorstores/db_faiss\", embeddings=embedding_model)"
   ]
  },
  {
   "cell_type": "code",
   "execution_count": 7,
   "metadata": {},
   "outputs": [],
   "source": [
    "docs = db.similarity_search(\"Mức lương mới ra trường\")"
   ]
  },
  {
   "cell_type": "code",
   "execution_count": 8,
   "metadata": {},
   "outputs": [
    {
     "data": {
      "text/plain": [
       "[Document(page_content='Mức lương thế nào: mới ra trường 13-15 triệu/1 tháng.'),\n",
       " Document(page_content='Học như nào là sao? Khó như bao ngành khác, nhiều bài tập, nhiều dự án. \\nHọc gì? - Mạch điện tử, vi mạch (con chip đen đen bé tí trên mạch điện tử) cấu trúc máy tính (nhúng - là các máy tính được đưa vào trong ô tô, thiết bị điện tử - tivi, tủ\\u202flạnh, camera, thiết bị viễn thông - trạm phát 4G, 5G, wifi, ... ), lập trình (tất tần tật các loại luôn - từ phần cứng, đến web, app, cơ sở dữ liệu, máy chủ), hệ thống thông tin di động (4G, 5G), mạng máy tính, thiết bị Y sinh, hàng không vũ trụ.'),\n",
       " Document(page_content='Làm ở đâu: Các công ty thiết kế chip (Infineon, Viettel, FPT Semi, Synopsys, Qorvo, Dolphin, HCL, CoAsia, Renesas, Intel), các công ty làm mạch điện tử, làm máy tính nhúng, làm điện thoại (Bosch, FPT Software, Panasonics, LGE, Samsung, Toshiba, Nisan, FPT Japan, VNPT Technology, Viettel High Tech, Meiko, McNex, Patron Vina), Các công ty di động (Vinaphone, Mobifone, Viettel), Các bệnh viện, Các sân bay, Các công ty làm phân tích dữ liệu, AI/ML (VinBigData, VinAI, Viettel, các ngân hàng, VNPT Media, VNPT IT), Các công ty phần mềm (Avepoint, Savycom, FPT Software, VNPT, Viettel, cái này thì nhiều vô số kể, ...)')]"
      ]
     },
     "execution_count": 8,
     "metadata": {},
     "output_type": "execute_result"
    }
   ],
   "source": [
    "docs"
   ]
  }
 ],
 "metadata": {
  "kernelspec": {
   "display_name": "llama_rag",
   "language": "python",
   "name": "python3"
  },
  "language_info": {
   "codemirror_mode": {
    "name": "ipython",
    "version": 3
   },
   "file_extension": ".py",
   "mimetype": "text/x-python",
   "name": "python",
   "nbconvert_exporter": "python",
   "pygments_lexer": "ipython3",
   "version": "3.10.13"
  }
 },
 "nbformat": 4,
 "nbformat_minor": 2
}
